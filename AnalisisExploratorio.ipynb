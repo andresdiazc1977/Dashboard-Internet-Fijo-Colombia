{
 "cells": [
  {
   "cell_type": "code",
   "execution_count": null,
   "id": "a372ebff-650d-4af8-88ed-a2ecc988eef4",
   "metadata": {
    "tags": []
   },
   "outputs": [],
   "source": [
    "import plotly.express as px\n",
    "import plotly.graph_objects as go\n",
    "from ydata_profiling import ProfileReport\n",
    "import pandas as pd\n",
    "import dash\n",
    "from dash import dcc, html\n",
    "from dash import dash_table\n",
    "import json\n",
    "import requests"
   ]
  },
  {
   "cell_type": "code",
   "execution_count": null,
   "id": "3274ce34-8ba6-4461-8055-02b12b28b7ad",
   "metadata": {
    "tags": []
   },
   "outputs": [],
   "source": [
    "# Accesos de Internet Fijo\n",
    "df_Accesos = pd.read_csv('https://postdata.gov.co/sites/default/files/datasets/data/ACCESOS_INTERNET_FIJO_2_20.csv', delimiter=';') "
   ]
  },
  {
   "cell_type": "code",
   "execution_count": null,
   "id": "4c1a0e45-dd1c-44de-aa92-5ea94866d9f4",
   "metadata": {
    "tags": []
   },
   "outputs": [],
   "source": [
    "df_Accesos.info()\n",
    "df_Accesos.head()"
   ]
  },
  {
   "cell_type": "code",
   "execution_count": null,
   "id": "33c82fb9-2b65-40b0-b341-8db964743bd8",
   "metadata": {
    "tags": []
   },
   "outputs": [],
   "source": [
    "df_Accesos['VELOCIDAD_EFECTIVA_DOWNSTREAM'] = pd.to_numeric(df_Accesos['VELOCIDAD_EFECTIVA_DOWNSTREAM'], errors='coerce')\n",
    "df_Accesos['VELOCIDAD_EFECTIVA_UPSTREAM'] = pd.to_numeric(df_Accesos['VELOCIDAD_EFECTIVA_UPSTREAM'], errors='coerce')\n",
    "df_Accesos.info()\n",
    "df_Accesos.head()"
   ]
  },
  {
   "cell_type": "code",
   "execution_count": null,
   "id": "b6f30d39-8864-4db0-ba7f-1c87be0ccfcf",
   "metadata": {
    "tags": []
   },
   "outputs": [],
   "source": [
    "periodos_accesos = df_Accesos.groupby(['ANNO','TRIMESTRE'])['ACCESOS'].count().reset_index()\n",
    "print(periodos_accesos)"
   ]
  },
  {
   "cell_type": "code",
   "execution_count": null,
   "id": "3a0db0e9-ea19-4723-83fb-fa1f610de564",
   "metadata": {
    "tags": []
   },
   "outputs": [],
   "source": [
    "df_Accesos_3annos = df_Accesos[(df_Accesos['ANNO'] >= 2021)]\n",
    "df_Accesos_3annos.info()"
   ]
  },
  {
   "cell_type": "code",
   "execution_count": null,
   "id": "8bec1cff-6151-4356-8884-6c7e79f2b120",
   "metadata": {
    "tags": []
   },
   "outputs": [],
   "source": [
    "profile_df_Accesos = ProfileReport(df_Accesos_3annos, title = 'Analisis df_Accesos')\n",
    "profile_df_Accesos.to_notebook_iframe()"
   ]
  },
  {
   "cell_type": "code",
   "execution_count": null,
   "id": "c9a44363-59c3-4332-9856-6870a215414f",
   "metadata": {
    "tags": []
   },
   "outputs": [],
   "source": [
    "df_Accesos_filtrado = df_Accesos[(df_Accesos['ANNO'] == 2023) & (df_Accesos['TRIMESTRE'] == 4)]\n",
    "df_Accesos_filtrado.info()\n",
    "df_Accesos_filtrado.head()"
   ]
  },
  {
   "cell_type": "code",
   "execution_count": null,
   "id": "42028475-0c9d-4bd8-8771-1edc5878af38",
   "metadata": {
    "tags": []
   },
   "outputs": [],
   "source": [
    "total_accesos = df_Accesos_filtrado['ACCESOS'].sum()\n",
    "print(total_accesos)"
   ]
  },
  {
   "cell_type": "code",
   "execution_count": null,
   "id": "95933d52-d212-4efa-85c7-0b3c28fa7dab",
   "metadata": {
    "tags": []
   },
   "outputs": [],
   "source": [
    "go.Figure(go.Indicator(\n",
    "    mode = 'gauge+number',\n",
    "    value = total_accesos,\n",
    "    title = {'text': 'Total de Accesos'},\n",
    "    gauge = {'axis': {'range': [None, 10000000]},\n",
    "             'steps' : [\n",
    "                 {'range': [0, 2000000], 'color': 'gainsboro'},\n",
    "                 {'range': [2000000, 4000000], 'color': 'lightgrey'},\n",
    "                 {'range': [4000000, 6000000], 'color': 'lightgray'},\n",
    "                 {'range': [6000000, 8000000], 'color': 'silver'}],\n",
    "             'threshold' : {'line': {'color': 'red', 'width': 4}, 'thickness': 0.75, 'value': 9990000}}\n",
    "))"
   ]
  },
  {
   "cell_type": "code",
   "execution_count": null,
   "id": "a5dc13a7-c067-4785-9545-526005cf75ff",
   "metadata": {
    "tags": []
   },
   "outputs": [],
   "source": [
    "empresas = df_Accesos_filtrado.groupby(['EMPRESA'])['ACCESOS'].sum().sort_values(ascending=False).reset_index()\n",
    "empresas.info()"
   ]
  },
  {
   "cell_type": "code",
   "execution_count": null,
   "id": "fde3f941-93c4-4c89-9c94-57ede53b4899",
   "metadata": {
    "tags": []
   },
   "outputs": [],
   "source": [
    "df_Accesos_filtrado2 = df_Accesos_filtrado.copy()\n",
    "top_10_empresas = df_Accesos_filtrado2.groupby('EMPRESA')['ACCESOS'].sum().sort_values(ascending=False).reset_index()\n",
    "top_10_empresas = top_10_empresas.sort_values('ACCESOS', ascending=False).head(10)\n",
    "top_10_nombres = top_10_empresas['EMPRESA'].tolist()\n",
    "df_Accesos_filtrado2['EMPRESA_TOP10'] = df_Accesos_filtrado2['EMPRESA'].apply(lambda x: x if x in top_10_nombres else 'OTROS')\n",
    "top_10_empresas = df_Accesos_filtrado2.groupby('EMPRESA_TOP10')['ACCESOS'].sum().sort_values(ascending=True).reset_index()\n",
    "top_10_empresas.rename(columns = {'EMPRESA_TOP10':'EMPRESA'}, inplace = True)\n",
    "top_10_empresas.head(11)"
   ]
  },
  {
   "cell_type": "code",
   "execution_count": null,
   "id": "76a01732-c806-4ee0-9194-cc5bd0845126",
   "metadata": {
    "tags": []
   },
   "outputs": [],
   "source": [
    "px.bar(top_10_empresas, y='EMPRESA', x='ACCESOS', orientation='h',\n",
    "                                title='Accesos por Empresa (Top 10)', labels={'ACCESOS': 'Accesos'})"
   ]
  },
  {
   "cell_type": "code",
   "execution_count": null,
   "id": "b4d82c3e-6b38-4fea-ba74-7a3ccd89f323",
   "metadata": {
    "tags": []
   },
   "outputs": [],
   "source": [
    "top_10_empresas['Porcentaje'] = top_10_empresas['ACCESOS'] / total_accesos * 100\n",
    "top_10_empresas.head(11)"
   ]
  },
  {
   "cell_type": "code",
   "execution_count": null,
   "id": "3a25f122-c3b2-4783-9ef2-49b7f81bcc05",
   "metadata": {
    "tags": []
   },
   "outputs": [],
   "source": [
    "px.pie(top_10_empresas, values='Porcentaje', names='EMPRESA', title='Participación de Mercado (Top 10)')"
   ]
  },
  {
   "cell_type": "code",
   "execution_count": null,
   "id": "0f3b5fdc-7874-4ed0-b177-2f41dba750de",
   "metadata": {
    "tags": []
   },
   "outputs": [],
   "source": [
    "tecnologias = df_Accesos_filtrado.groupby(['TECNOLOGIA'])['ACCESOS'].sum().sort_values(ascending=False).reset_index()\n",
    "tecnologias.info()\n",
    "tecnologias.head()"
   ]
  },
  {
   "cell_type": "code",
   "execution_count": null,
   "id": "755c5044-7516-4b8b-bca3-9eb5dfcf2b43",
   "metadata": {
    "tags": []
   },
   "outputs": [],
   "source": [
    "df_Accesos_filtrado3 = df_Accesos_filtrado.copy()\n",
    "top_10_tecnologias = df_Accesos_filtrado3.groupby('TECNOLOGIA')['ACCESOS'].sum().sort_values(ascending=False).reset_index()\n",
    "top_10_tecnologias = top_10_tecnologias.sort_values('ACCESOS', ascending=False).head(10)\n",
    "top_10_nombres_tec = top_10_tecnologias['TECNOLOGIA'].tolist()\n",
    "df_Accesos_filtrado3['TECNOLOGIA_TOP10'] = df_Accesos_filtrado3['TECNOLOGIA'].apply(lambda x: x if x in top_10_nombres_tec else 'Otras')\n",
    "top_10_tecnologias = df_Accesos_filtrado3.groupby('TECNOLOGIA_TOP10')['ACCESOS'].sum().sort_values(ascending=False).reset_index()\n",
    "top_10_tecnologias.rename(columns = {'TECNOLOGIA_TOP10':'TECNOLOGIA'}, inplace = True)\n",
    "top_10_tecnologias['Porcentaje'] = top_10_tecnologias['ACCESOS'] / total_accesos * 100\n",
    "top_10_tecnologias.head(11)"
   ]
  },
  {
   "cell_type": "code",
   "execution_count": null,
   "id": "7164b867-e863-4adf-9075-b8f75e514d32",
   "metadata": {
    "tags": []
   },
   "outputs": [],
   "source": [
    "tree_tecnologias = px.treemap(top_10_tecnologias, path=['TECNOLOGIA'], values='ACCESOS', title='Accesos por Tecnología', labels={'ACCESOS':'Numero de Accesos'})\n",
    "tree_tecnologias.update_layout(margin = dict(t=50, l=25, r=25, b=25))\n",
    "tree_tecnologias.update_layout(autosize=True, width=600, height=400)\n",
    "tree_tecnologias.show()"
   ]
  },
  {
   "cell_type": "code",
   "execution_count": null,
   "id": "566e2c36-ec41-469d-af42-f2535537f120",
   "metadata": {
    "tags": []
   },
   "outputs": [],
   "source": [
    "velocidades = df_Accesos_filtrado.groupby(['VELOCIDAD_EFECTIVA_DOWNSTREAM'])['ACCESOS'].sum().sort_values(ascending=False).reset_index()\n",
    "velocidades.info()"
   ]
  },
  {
   "cell_type": "code",
   "execution_count": null,
   "id": "5c4bb206-a671-4f26-b9fd-47e6c7e3fa3b",
   "metadata": {
    "tags": []
   },
   "outputs": [],
   "source": [
    "px.line(velocidades, x='VELOCIDAD_EFECTIVA_DOWNSTREAM', y='ACCESOS')"
   ]
  },
  {
   "cell_type": "code",
   "execution_count": null,
   "id": "c167cd38-b96c-4df7-8434-e5088099cb49",
   "metadata": {
    "tags": []
   },
   "outputs": [],
   "source": [
    "df_Accesos_filtrado4 = df_Accesos_filtrado.copy()\n",
    "etiquetas_velocidad = ['0-10', '10-50', '50-100', '100-500', '500-1000', '>1000']\n",
    "bordes_velocidad = [0, 10, 50, 100, 500, 1000, 5000]\n",
    "df_Accesos_filtrado4['VELOCIDAD'] = pd.cut(df_Accesos_filtrado4['VELOCIDAD_EFECTIVA_DOWNSTREAM'], bins=bordes_velocidad, labels=etiquetas_velocidad)\n",
    "velocidades = df_Accesos_filtrado4.groupby('VELOCIDAD')['ACCESOS'].sum().reset_index()"
   ]
  },
  {
   "cell_type": "code",
   "execution_count": null,
   "id": "54a1504a-7f4b-45f2-b926-b6fb62f357e4",
   "metadata": {
    "tags": []
   },
   "outputs": [],
   "source": [
    "px.bar(velocidades, x='VELOCIDAD', y='ACCESOS', title='Velocidades de Descarga en Mbps')"
   ]
  },
  {
   "cell_type": "code",
   "execution_count": null,
   "id": "28811271-5652-4b86-b2b0-786cf17ac942",
   "metadata": {
    "tags": []
   },
   "outputs": [],
   "source": [
    "velocidad = (df_Accesos_filtrado['VELOCIDAD_EFECTIVA_DOWNSTREAM']*df_Accesos_filtrado['ACCESOS']).sum()\n",
    "promedio_velocidad = velocidad/total_accesos\n",
    "print(promedio_velocidad)"
   ]
  },
  {
   "cell_type": "code",
   "execution_count": null,
   "id": "9cd24340-d72b-4b08-9e2c-da6e0eded1ab",
   "metadata": {
    "tags": []
   },
   "outputs": [],
   "source": [
    "go.Figure(go.Indicator(\n",
    "    mode = 'gauge+number',\n",
    "    value = promedio_velocidad,\n",
    "    title = {'text': 'Promedio Velocidad de Descarga (Mbps)'},\n",
    "    gauge = {'axis': {'range': [None, 1000]},\n",
    "             'steps' : [\n",
    "                 {'range': [0, 200], 'color': 'gainsboro'},\n",
    "                 {'range': [200, 400], 'color': 'lightgrey'},\n",
    "                 {'range': [400, 600], 'color': 'lightgray'},\n",
    "                 {'range': [600, 800], 'color': 'silver'}],\n",
    "             'threshold' : {'line': {'color': 'red', 'width': 4}, 'thickness': 0.75, 'value': 990}}\n",
    "))"
   ]
  },
  {
   "cell_type": "code",
   "execution_count": null,
   "id": "f63c3675-3386-46a2-919e-99aafddec688",
   "metadata": {
    "tags": []
   },
   "outputs": [],
   "source": [
    "segmentos = df_Accesos_filtrado.groupby(['SEGMENTO'])['ACCESOS'].sum().reset_index()\n",
    "segmentos.head(10)"
   ]
  },
  {
   "cell_type": "code",
   "execution_count": null,
   "id": "fbc7f2dc-30d0-4857-a981-60752e9671b5",
   "metadata": {
    "tags": []
   },
   "outputs": [],
   "source": [
    "px.bar(segmentos, x='SEGMENTO', y='ACCESOS', title='Distribución de Accesos por Estrato y Segmento')"
   ]
  },
  {
   "cell_type": "code",
   "execution_count": null,
   "id": "350627ce-386d-4162-a6d8-7c90f14f83fe",
   "metadata": {
    "tags": []
   },
   "outputs": [],
   "source": [
    "df_Accesos_filtrado5 = df_Accesos_filtrado.copy()\n",
    "etiquetas_velocidad = ['0-10', '10-50', '50-100', '100-500', '500-100', '>1000']\n",
    "bordes_velocidad = [0, 10, 50, 100, 500, 1000, 5000]\n",
    "df_Accesos_filtrado5['VELOCIDAD'] = pd.cut(df_Accesos_filtrado5['VELOCIDAD_EFECTIVA_DOWNSTREAM'], bins=bordes_velocidad, labels=etiquetas_velocidad)\n",
    "velocidades_segmento = df_Accesos_filtrado5.groupby(['SEGMENTO','VELOCIDAD'])['ACCESOS'].sum().reset_index()"
   ]
  },
  {
   "cell_type": "code",
   "execution_count": null,
   "id": "b79dee79-0286-4e01-bdfa-8573c8e8ea6b",
   "metadata": {
    "tags": []
   },
   "outputs": [],
   "source": [
    "px.bar(velocidades_segmento, x='SEGMENTO', y='ACCESOS', color='VELOCIDAD', barmode='group', title='Distribución de Velocidades en Mbps por Estrato y Segmento')"
   ]
  },
  {
   "cell_type": "code",
   "execution_count": null,
   "id": "ef689ef3-bea6-4d37-aa4a-2d821d49e3b1",
   "metadata": {
    "tags": []
   },
   "outputs": [],
   "source": [
    "# Ingresos de Internet Fijo\n",
    "df_Ingresos = pd.read_csv('https://postdata.gov.co/sites/default/files/datasets/data/INGRESOS_INTERNET_FIJO_17.csv', delimiter=';') \n",
    "df_Ingresos.info()"
   ]
  },
  {
   "cell_type": "code",
   "execution_count": null,
   "id": "91cf1aa2-e789-4278-8920-def4e6d690f7",
   "metadata": {
    "tags": []
   },
   "outputs": [],
   "source": [
    "periodos_ingresos = df_Ingresos.groupby(['ANNO','TRIMESTRE'])['INGRESOS'].count().reset_index()\n",
    "print(periodos_accesos)"
   ]
  },
  {
   "cell_type": "code",
   "execution_count": null,
   "id": "c5c2fe1b-1518-4130-9a5b-60e5996347e3",
   "metadata": {
    "tags": []
   },
   "outputs": [],
   "source": [
    "profile_df_Ingresos = ProfileReport(df_Ingresos, title = 'Analisis df_Ingresos')\n",
    "profile_df_Ingresos.to_notebook_iframe()"
   ]
  },
  {
   "cell_type": "code",
   "execution_count": null,
   "id": "0437c18f-1766-4e4f-85ee-f2be8247186a",
   "metadata": {
    "tags": []
   },
   "outputs": [],
   "source": [
    "df_Ingresos_filtrado = df_Ingresos[(df_Ingresos['ANNO'] == 2023) & (df_Ingresos['TRIMESTRE'] == 4)]\n",
    "df_Ingresos_filtrado.info()"
   ]
  },
  {
   "cell_type": "code",
   "execution_count": null,
   "id": "8ecff60c-a6ee-447e-a30e-1d20e2e2ae32",
   "metadata": {
    "tags": []
   },
   "outputs": [],
   "source": [
    "total_ingresos = df_Ingresos_filtrado['INGRESOS'].sum()\n",
    "print(total_ingresos)"
   ]
  },
  {
   "cell_type": "code",
   "execution_count": null,
   "id": "2627d84a-b3d2-4e0e-9ad5-88b818496ab5",
   "metadata": {
    "tags": []
   },
   "outputs": [],
   "source": [
    "total_ingresos = total_ingresos/1000000000000\n",
    "print(total_ingresos)"
   ]
  },
  {
   "cell_type": "code",
   "execution_count": null,
   "id": "585488a8-cf25-42cf-bb7d-4124848ea12f",
   "metadata": {
    "tags": []
   },
   "outputs": [],
   "source": [
    "go.Figure(go.Indicator(\n",
    "    mode = 'gauge+number',\n",
    "    value = total_ingresos,\n",
    "    title = {'text': 'Total de Ingresos (Billones de Pesos)'},\n",
    "    gauge = {'axis': {'range': [None, 2.5]},\n",
    "             'steps' : [\n",
    "                 {'range': [0, 0.5], 'color': 'gainsboro'},\n",
    "                 {'range': [0.5, 1], 'color': 'lightgrey'},\n",
    "                 {'range': [1, 1.5], 'color': 'lightgray'},\n",
    "                 {'range': [1.5, 2], 'color': 'silver'}],\n",
    "             'threshold' : {'line': {'color': 'red', 'width': 4}, 'thickness': 0.75, 'value': 2.49}}\n",
    "))"
   ]
  },
  {
   "cell_type": "code",
   "execution_count": null,
   "id": "471e1bdf-880d-4a13-9006-a7f249a8fd4e",
   "metadata": {
    "tags": []
   },
   "outputs": [],
   "source": [
    "empresas_ingresos = df_Ingresos_filtrado.groupby(['EMPRESA'])['INGRESOS'].sum().sort_values(ascending=False).reset_index()\n",
    "empresas_ingresos.info()"
   ]
  },
  {
   "cell_type": "code",
   "execution_count": null,
   "id": "70dc3d99-0820-43ea-ba1d-7ee9c242d557",
   "metadata": {
    "tags": []
   },
   "outputs": [],
   "source": [
    "df_Ingresos_filtrado2 = df_Ingresos_filtrado.copy()\n",
    "top_10_empresas_ingresos = df_Ingresos_filtrado2.groupby('EMPRESA')['INGRESOS'].sum().sort_values(ascending=False).reset_index()\n",
    "top_10_empresas_ingresos = top_10_empresas_ingresos.sort_values('INGRESOS', ascending=False).head(10)\n",
    "top_10_nombres_ingresos = top_10_empresas_ingresos['EMPRESA'].tolist()\n",
    "df_Ingresos_filtrado2['EMPRESA_TOP10'] = df_Ingresos_filtrado2['EMPRESA'].apply(lambda x: x if x in top_10_nombres_ingresos else 'OTROS')\n",
    "top_10_empresas_ingresos = df_Ingresos_filtrado2.groupby('EMPRESA_TOP10')['INGRESOS'].sum().sort_values(ascending=True).reset_index()\n",
    "top_10_empresas_ingresos.rename(columns = {'EMPRESA_TOP10':'EMPRESA'}, inplace = True)\n",
    "top_10_empresas_ingresos['INGRESOS'] = top_10_empresas_ingresos['INGRESOS']/1000000000\n",
    "top_10_empresas_ingresos.head(11)"
   ]
  },
  {
   "cell_type": "code",
   "execution_count": null,
   "id": "88376165-4b5d-4cb6-b06d-9904b388863f",
   "metadata": {
    "tags": []
   },
   "outputs": [],
   "source": [
    "px.bar(top_10_empresas_ingresos, y='EMPRESA', x='INGRESOS', orientation='h', title='Ingresos por Empresa en Miles de Millones de Pesos (Top 10)', labels=[{'INGRESOS': 'Ingresos'},{'EMPRESA': 'Empresa'}])"
   ]
  },
  {
   "cell_type": "code",
   "execution_count": null,
   "id": "8dd5a5d5-3169-4eac-9a70-07ed78b8d451",
   "metadata": {
    "tags": []
   },
   "outputs": [],
   "source": [
    "total_ingresos2 = df_Ingresos_filtrado['INGRESOS'].sum()\n",
    "total_ingresos2 = total_ingresos2/1000000000\n",
    "top_10_empresas_ingresos['Porcentaje'] = top_10_empresas_ingresos['INGRESOS'] / total_ingresos2 * 100\n",
    "top_10_empresas_ingresos.head(11)"
   ]
  },
  {
   "cell_type": "code",
   "execution_count": null,
   "id": "f070b1b2-f0c5-4511-886c-5f645e2d8642",
   "metadata": {
    "tags": []
   },
   "outputs": [],
   "source": [
    "px.pie(top_10_empresas_ingresos, values='Porcentaje', names='EMPRESA', title='Ingresos por Empresa (Top 10)')"
   ]
  },
  {
   "cell_type": "code",
   "execution_count": null,
   "id": "5b974d05-9e07-4b45-ab58-10b04ddb5991",
   "metadata": {
    "tags": []
   },
   "outputs": [],
   "source": [
    "ingresos_servicio = df_Ingresos_filtrado.groupby(['SERVICIO'])['INGRESOS'].sum().sort_values(ascending=False).reset_index()\n",
    "print(ingresos_servicio)"
   ]
  },
  {
   "cell_type": "code",
   "execution_count": null,
   "id": "8065bcdc-244b-48e9-8533-f9cacfe27b00",
   "metadata": {
    "tags": []
   },
   "outputs": [],
   "source": [
    "ingresos_concepto = df_Ingresos_filtrado.groupby(['CONCEPTO'])['INGRESOS'].sum().sort_values(ascending=False).reset_index()\n",
    "print(ingresos_concepto)"
   ]
  },
  {
   "cell_type": "code",
   "execution_count": null,
   "id": "3dc2b190-5576-43c6-9ea8-fd24b31afc34",
   "metadata": {
    "tags": []
   },
   "outputs": [],
   "source": [
    "AccesosEmpresa = df_Accesos_filtrado.groupby(['ID_EMPRESA','EMPRESA'])['ACCESOS'].sum().sort_values(ascending=False).reset_index()\n",
    "AccesosEmpresa.info()\n",
    "AccesosEmpresa.head(10)"
   ]
  },
  {
   "cell_type": "code",
   "execution_count": null,
   "id": "886e1138-85b8-4e24-8892-f1dfcbf39758",
   "metadata": {
    "tags": []
   },
   "outputs": [],
   "source": [
    "IngresosEmpresas = df_Ingresos_filtrado.groupby(['ID_EMPRESA','EMPRESA'])['INGRESOS'].sum().sort_values(ascending=False).reset_index()\n",
    "IngresosEmpresas.info()\n",
    "IngresosEmpresas.head(10)"
   ]
  },
  {
   "cell_type": "code",
   "execution_count": null,
   "id": "b6737ab5-a5ea-484c-9a0a-e17a8b55c4a5",
   "metadata": {
    "tags": []
   },
   "outputs": [],
   "source": [
    "AccesosEmpresa = df_Accesos_filtrado.groupby(['ID_EMPRESA','EMPRESA'])['ACCESOS'].sum().sort_values(ascending=False).reset_index()\n",
    "IngresosEmpresas = df_Ingresos_filtrado.groupby(['ID_EMPRESA','EMPRESA'])['INGRESOS'].sum().sort_values(ascending=False).reset_index()\n",
    "arpu = pd.merge(AccesosEmpresa, IngresosEmpresas, on='ID_EMPRESA', how='inner')\n",
    "arpu.rename(columns={'EMPRESA_x': 'EMPRESA'}, inplace=True)\n",
    "arpu.drop(columns=['EMPRESA_y'], inplace=True)\n",
    "arpu['ARPU'] = arpu['INGRESOS'] / arpu['ACCESOS']\n",
    "arpu_top10_accesos = arpu[arpu['EMPRESA'].isin(top_10_nombres)]\n",
    "arpu_top10_accesos = arpu_top10_accesos.sort_values(by='ARPU', ascending=True)\n",
    "arpu_top10_accesos.head(11)"
   ]
  },
  {
   "cell_type": "code",
   "execution_count": null,
   "id": "569d6393-4e36-4eef-b408-388e9af9e823",
   "metadata": {
    "tags": []
   },
   "outputs": [],
   "source": [
    "px.bar(arpu_top10_accesos, y='EMPRESA', x='ARPU', orientation='h', title='Ingreso por Acceso (ARPU) Top 10 Empresas por Accesos')"
   ]
  },
  {
   "cell_type": "code",
   "execution_count": null,
   "id": "f35ebfb7-2347-48ca-b7bd-2516f001efaa",
   "metadata": {
    "tags": []
   },
   "outputs": [],
   "source": [
    "arpu_top10_ingresos = arpu[arpu['EMPRESA'].isin(top_10_nombres_ingresos)]\n",
    "arpu_top10_ingresos = arpu_top10_ingresos.sort_values(by='ARPU', ascending=True)"
   ]
  },
  {
   "cell_type": "code",
   "execution_count": null,
   "id": "3c68030e-f83e-4752-9564-3194d398597c",
   "metadata": {
    "tags": []
   },
   "outputs": [],
   "source": [
    "px.bar(arpu_top10_ingresos, y='EMPRESA', x='ARPU', orientation='h', title='Ingreso por Acceso (ARPU) Top 10 Empresas por Ingresos')"
   ]
  },
  {
   "cell_type": "code",
   "execution_count": null,
   "id": "d219ab5f-4661-41c4-a57f-fdce434dc5b1",
   "metadata": {
    "tags": []
   },
   "outputs": [],
   "source": [
    "# Quejas de Internet Fijo\n",
    "df_Quejas = pd.read_csv('https://postdata.gov.co/sites/default/files/datasets/data/FT4_2_INT_FIJO_9.csv', delimiter=';') \n",
    "df_Quejas.info()\n",
    "df_Quejas.head()"
   ]
  },
  {
   "cell_type": "code",
   "execution_count": null,
   "id": "fb1f267e-6109-4d3c-b5c5-3355a6e7978f",
   "metadata": {
    "tags": []
   },
   "outputs": [],
   "source": [
    "periodos_quejas = df_Quejas.groupby(['ANNO','TRIMESTRE'])['NUMERO_QUEJAS'].count().reset_index()\n",
    "print(periodos_quejas)"
   ]
  },
  {
   "cell_type": "code",
   "execution_count": null,
   "id": "d58a5f93-6658-4d14-af6b-97c009ba09ab",
   "metadata": {
    "tags": []
   },
   "outputs": [],
   "source": [
    "profile_df_Quejas = ProfileReport(df_Quejas, title = 'Analisis df_Quejas')\n",
    "profile_df_Quejas.to_notebook_iframe()"
   ]
  },
  {
   "cell_type": "code",
   "execution_count": null,
   "id": "f326fb8b-c06d-42e1-be36-4d0b8648b8b0",
   "metadata": {
    "tags": []
   },
   "outputs": [],
   "source": [
    "df_Quejas_filtrado = df_Quejas[(df_Quejas['ANNO'] == 2023) & (df_Quejas['TRIMESTRE'] == 4)]\n",
    "df_Quejas_filtrado.info()"
   ]
  },
  {
   "cell_type": "code",
   "execution_count": null,
   "id": "d7bb56bc-14ff-44fd-b34a-6c7be268d251",
   "metadata": {
    "tags": []
   },
   "outputs": [],
   "source": [
    "total_quejas = df_Quejas_filtrado['NUMERO_QUEJAS'].sum()\n",
    "print(total_quejas)"
   ]
  },
  {
   "cell_type": "code",
   "execution_count": null,
   "id": "dfbe99d6-d924-4b61-abdd-f20bbbafc66a",
   "metadata": {
    "tags": []
   },
   "outputs": [],
   "source": [
    "go.Figure(go.Indicator(\n",
    "    mode = 'gauge+number',\n",
    "    value = total_quejas,\n",
    "    title = {'text': 'Total de Quejas'},\n",
    "    gauge = {'axis': {'range': [None, 1000000]},\n",
    "             'steps' : [\n",
    "                 {'range': [0, 200000], 'color': 'gainsboro'},\n",
    "                 {'range': [200000, 400000], 'color': 'lightgrey'},\n",
    "                 {'range': [400000, 600000], 'color': 'lightgray'},\n",
    "                 {'range': [600000, 800000], 'color': 'silver'}],\n",
    "             'threshold' : {'line': {'color': 'red', 'width': 4}, 'thickness': 0.75, 'value': 990000}}\n",
    "))"
   ]
  },
  {
   "cell_type": "code",
   "execution_count": null,
   "id": "10c14519-776d-4ee6-b54e-a67a7fe2ed17",
   "metadata": {
    "tags": []
   },
   "outputs": [],
   "source": [
    "df_Quejas_filtrado2 = df_Quejas_filtrado.copy()\n",
    "top_10_empresas_quejas = df_Quejas_filtrado2.groupby('EMPRESA')['NUMERO_QUEJAS'].sum().sort_values(ascending=False).reset_index()\n",
    "top_10_empresas_quejas = top_10_empresas_quejas.sort_values('NUMERO_QUEJAS', ascending=False).head(10)\n",
    "top_10_nombres_quejas = top_10_empresas_quejas['EMPRESA'].tolist()\n",
    "df_Quejas_filtrado2['EMPRESA_TOP10'] = df_Quejas_filtrado2['EMPRESA'].apply(lambda x: x if x in top_10_nombres_quejas else 'OTROS')\n",
    "top_10_empresas_quejas = df_Quejas_filtrado2.groupby('EMPRESA_TOP10')['NUMERO_QUEJAS'].sum().sort_values(ascending=True).reset_index()\n",
    "top_10_empresas_quejas.rename(columns = {'EMPRESA_TOP10':'EMPRESA'}, inplace = True)\n",
    "top_10_empresas_quejas.head(11)"
   ]
  },
  {
   "cell_type": "code",
   "execution_count": null,
   "id": "4aeac2e3-5444-4ce7-b701-ac4536e07c20",
   "metadata": {
    "tags": []
   },
   "outputs": [],
   "source": [
    "px.bar(top_10_empresas_quejas, y='EMPRESA', x='NUMERO_QUEJAS', orientation='h', title='Quejas por Empresa (Top 10)', labels=[{'QUEJAS': 'Quejas'},{'EMPRESA': 'Empresa'}])"
   ]
  },
  {
   "cell_type": "code",
   "execution_count": null,
   "id": "9b9b63d7-7659-46df-8a56-34ba04bdee39",
   "metadata": {
    "tags": []
   },
   "outputs": [],
   "source": [
    "top_10_empresas_quejas['Porcentaje'] = top_10_empresas_quejas['NUMERO_QUEJAS'] / total_quejas * 100"
   ]
  },
  {
   "cell_type": "code",
   "execution_count": null,
   "id": "0a2a77f9-0dba-49e0-ac01-3f5660f9d799",
   "metadata": {
    "tags": []
   },
   "outputs": [],
   "source": [
    "px.pie(top_10_empresas_quejas, values='Porcentaje', names='EMPRESA', title='Quejas por Empresa (Top 10)')"
   ]
  },
  {
   "cell_type": "code",
   "execution_count": null,
   "id": "8d462e04-dd6b-4fff-b6d5-88334252a98a",
   "metadata": {
    "tags": []
   },
   "outputs": [],
   "source": [
    "df_Quejas_filtrado2 = df_Quejas_filtrado.copy()\n",
    "top_10_tipologia_quejas = df_Quejas_filtrado2.groupby(['TIPOLOGIA'])['NUMERO_QUEJAS'].sum().sort_values(ascending=False).reset_index()\n",
    "top_10_tipologia_quejas = top_10_tipologia_quejas.sort_values('NUMERO_QUEJAS', ascending=False).head(10)\n",
    "top_10_nombres_tipologia = top_10_tipologia_quejas['TIPOLOGIA'].tolist()\n",
    "df_Quejas_filtrado2['TIPOLOGIA_TOP10'] = df_Quejas_filtrado2['TIPOLOGIA'].apply(lambda x: x if x in top_10_nombres_tipologia else 'Otros')\n",
    "top_10_tipologia_quejas = df_Quejas_filtrado2.groupby('TIPOLOGIA_TOP10')['NUMERO_QUEJAS'].sum().sort_values(ascending=True).reset_index()\n",
    "top_10_tipologia_quejas.rename(columns = {'TIPOLOGIA_TOP10':'TIPOLOGIA'}, inplace = True)\n",
    "top_10_tipologia_quejas['Porcentaje'] = top_10_tipologia_quejas['NUMERO_QUEJAS'] / total_quejas * 100\n",
    "top_10_tipologia_quejas.head(11)"
   ]
  },
  {
   "cell_type": "code",
   "execution_count": null,
   "id": "a3de1820-7ba3-4822-8a62-8f087d345caa",
   "metadata": {
    "tags": []
   },
   "outputs": [],
   "source": [
    "tree_tipologia_quejas = px.treemap(top_10_tipologia_quejas, path=['TIPOLOGIA'], values='NUMERO_QUEJAS', title='Quejas por Tipología', labels={'NUMERO_QUEJAS':'Número de Quejas'})\n",
    "tree_tipologia_quejas.update_layout(margin = dict(t=50, l=25, r=25, b=25))\n",
    "tree_tipologia_quejas.update_layout(autosize=True, width=600, height=400)\n",
    "tree_tipologia_quejas.show()"
   ]
  },
  {
   "cell_type": "code",
   "execution_count": null,
   "id": "cceaeb7f-25d0-458c-89d0-f124a7c61bf4",
   "metadata": {
    "tags": []
   },
   "outputs": [],
   "source": [
    "df_Quejas_filtrado3 = df_Quejas_filtrado.copy()\n",
    "medio_quejas = df_Quejas_filtrado3.groupby(['MEDIO_ATENCION'])['NUMERO_QUEJAS'].sum().sort_values(ascending=False).reset_index()\n",
    "medio_quejas['Porcentaje'] = medio_quejas['NUMERO_QUEJAS'] / total_quejas * 100\n",
    "medio_quejas.head(11)"
   ]
  },
  {
   "cell_type": "code",
   "execution_count": null,
   "id": "a11d7bdb-ee3f-47dc-b4e1-62de316b23ef",
   "metadata": {
    "tags": []
   },
   "outputs": [],
   "source": [
    "px.pie(medio_quejas, values='Porcentaje', names='MEDIO_ATENCION', title='Medio de Atención Quejas')"
   ]
  },
  {
   "cell_type": "code",
   "execution_count": null,
   "id": "d675bbff-6ff3-402c-86e9-3fa6cc110706",
   "metadata": {},
   "outputs": [],
   "source": []
  },
  {
   "cell_type": "code",
   "execution_count": null,
   "id": "55acfbb1-1814-44fb-869b-a862fc5cfb9c",
   "metadata": {},
   "outputs": [],
   "source": []
  },
  {
   "cell_type": "code",
   "execution_count": null,
   "id": "48cb5cd7-ea19-4037-9d64-b8a5089d0541",
   "metadata": {},
   "outputs": [],
   "source": []
  },
  {
   "cell_type": "code",
   "execution_count": null,
   "id": "7277ee72-b560-4064-b64a-bab6ed27d3ec",
   "metadata": {
    "tags": []
   },
   "outputs": [],
   "source": [
    "# Empaquetamiento de Servicios Fijo\n",
    "df_Empaquetamiento = pd.read_csv('https://postdata.gov.co/sites/default/files/datasets/data/EMPAQUETAMIENTO_FIJO_2.csv', delimiter=';', low_memory=False)"
   ]
  },
  {
   "cell_type": "code",
   "execution_count": null,
   "id": "0101c4df-5daf-4b71-8f56-9ebfe346add0",
   "metadata": {
    "tags": []
   },
   "outputs": [],
   "source": [
    "df_Empaquetamiento.info()\n",
    "df_Empaquetamiento.head()"
   ]
  },
  {
   "cell_type": "code",
   "execution_count": null,
   "id": "dc62c063-420c-4c97-9be1-e8caa3909ec0",
   "metadata": {
    "tags": []
   },
   "outputs": [],
   "source": [
    "periodos_empaquetamiento = df_Empaquetamiento.groupby(['ANNO','TRIMESTRE'])['CANTIDAD_LINEAS_ACCESOS'].count().reset_index()\n",
    "print(periodos_empaquetamiento)"
   ]
  },
  {
   "cell_type": "code",
   "execution_count": null,
   "id": "f61609ed-4766-403d-a429-00044e77c7cd",
   "metadata": {
    "tags": []
   },
   "outputs": [],
   "source": [
    "profile_df_Empaquetamiento = ProfileReport(df_Empaquetamiento, title = 'Analisis df_Empaquetamiento')\n",
    "profile_df_Empaquetamiento.to_notebook_iframe()"
   ]
  },
  {
   "cell_type": "code",
   "execution_count": null,
   "id": "80453f94-d2dd-44d4-93be-1ce78db7e99b",
   "metadata": {
    "tags": []
   },
   "outputs": [],
   "source": [
    "servicios_empaquetamiento = df_Empaquetamiento.groupby(['SERVICIO_PAQUETE'])['CANTIDAD_LINEAS_ACCESOS'].count().reset_index()\n",
    "servicios_empaquetamiento.head(10)"
   ]
  },
  {
   "cell_type": "code",
   "execution_count": null,
   "id": "0830221e-d9c9-4e01-b84e-3ce390a097f8",
   "metadata": {
    "tags": []
   },
   "outputs": [],
   "source": [
    "df_Empaquetamiento = df_Empaquetamiento.drop(['VELOCIDAD_EFECTIVA_DOWNSTREAM', 'VELOCIDAD_EFECTIVA_UPSTREAM',\n",
    "                                              'ID_TECNOLOGIA', 'TECNOLOGIA', 'ID_ESTADO', 'ESTADO',\n",
    "                                              'VALOR_FACTURADO_O_COBRADO', 'OTROS_VALORES_FACTURADOS'], axis=1)\n",
    "df_Empaquetamiento = df_Empaquetamiento.drop(df_Empaquetamiento[df_Empaquetamiento['SERVICIO_PAQUETE'] == 'Telefonía fija'].index)\n",
    "df_Empaquetamiento = df_Empaquetamiento.drop(df_Empaquetamiento[df_Empaquetamiento['SERVICIO_PAQUETE'] == 'Televisión por suscripción'].index)\n",
    "df_Empaquetamiento = df_Empaquetamiento.drop(df_Empaquetamiento[df_Empaquetamiento['SERVICIO_PAQUETE'] == 'Duo Play 3 (Telefonía fija y TV por suscripción)'].index)"
   ]
  },
  {
   "cell_type": "code",
   "execution_count": null,
   "id": "49013422-f56b-4a45-bbba-bb562718e128",
   "metadata": {
    "tags": []
   },
   "outputs": [],
   "source": [
    "df_Empaquetamiento.info()\n",
    "df_Empaquetamiento.head()"
   ]
  },
  {
   "cell_type": "code",
   "execution_count": null,
   "id": "6b90e829-64e2-4049-8290-ec9b140aaa2f",
   "metadata": {
    "tags": []
   },
   "outputs": [],
   "source": [
    "df_Empaquetamiento_filtrado = df_Empaquetamiento[(df_Empaquetamiento['ANNO'] == 2023) & (df_Empaquetamiento['TRIMESTRE'] == 4)]\n",
    "df_Empaquetamiento_filtrado.info()"
   ]
  },
  {
   "cell_type": "code",
   "execution_count": null,
   "id": "c4118b5d-4662-4f61-9aac-d50a67f2ee41",
   "metadata": {
    "tags": []
   },
   "outputs": [],
   "source": [
    "empaquetamiento_servicios = df_Empaquetamiento.groupby(['SERVICIO_PAQUETE'])['CANTIDAD_LINEAS_ACCESOS'].sum().sort_values(ascending=False).reset_index()\n",
    "total_empaquetado = empaquetamiento_servicios['CANTIDAD_LINEAS_ACCESOS'].sum()\n",
    "empaquetamiento_servicios['Porcentaje'] = empaquetamiento_servicios['CANTIDAD_LINEAS_ACCESOS'] / total_empaquetado * 100\n",
    "empaquetamiento_servicios.head(10)"
   ]
  },
  {
   "cell_type": "code",
   "execution_count": null,
   "id": "79173b14-71dc-4cc4-9937-63c21774dd2a",
   "metadata": {
    "tags": []
   },
   "outputs": [],
   "source": [
    "px.pie(empaquetamiento_servicios, values='Porcentaje', names='SERVICIO_PAQUETE', title='Empaquetamiento de Internet Fijo')"
   ]
  },
  {
   "cell_type": "code",
   "execution_count": null,
   "id": "b0289806-4be3-4f81-b144-fd09d0fccddd",
   "metadata": {
    "tags": []
   },
   "outputs": [],
   "source": []
  },
  {
   "cell_type": "code",
   "execution_count": null,
   "id": "b4c71abd-3daa-4197-a759-2031db887be5",
   "metadata": {},
   "outputs": [],
   "source": []
  },
  {
   "cell_type": "code",
   "execution_count": null,
   "id": "73059aca-a446-4e15-84cd-b1012df2463d",
   "metadata": {
    "tags": []
   },
   "outputs": [],
   "source": [
    "# Penetracion de Internet Fijo\n",
    "df_Penetracion = pd.read_csv('https://www.datos.gov.co/resource/4py7-br84.csv?$query=SELECT%0A%20%20%60a_o%60%2C%0A%20%20%60trimestre%60%2C%0A%20%20%60cod_departamento%60%2C%0A%20%20%60departamento%60%2C%0A%20%20%60no_accesos_fijos_a_internet%60%2C%0A%20%20%60poblaci_n_dane%60%2C%0A%20%20%60indice%60%0A', delimiter=',')"
   ]
  },
  {
   "cell_type": "code",
   "execution_count": null,
   "id": "8fe8fb05-44d0-4f81-9c0b-f5eb4f019ae6",
   "metadata": {
    "tags": []
   },
   "outputs": [],
   "source": [
    "df_Penetracion.info()\n",
    "df_Penetracion.head()"
   ]
  },
  {
   "cell_type": "code",
   "execution_count": null,
   "id": "1c06128b-7d34-4e21-9f5a-20248b8f61c8",
   "metadata": {
    "tags": []
   },
   "outputs": [],
   "source": [
    "df_Penetracion.rename(columns = {'a_o':'ANNO'}, inplace = True)\n",
    "df_Penetracion.rename(columns = {'trimestre':'TRIMESTRE'}, inplace = True)\n",
    "df_Penetracion.rename(columns = {'departamento':'DEPARTAMENTO'}, inplace = True)\n",
    "df_Penetracion.rename(columns = {'no_accesos_fijos_a_internet':'ACCESOS'}, inplace = True)\n",
    "df_Penetracion.rename(columns = {'poblaci_n_dane':'POBLACION'}, inplace = True)\n",
    "df_Penetracion.rename(columns = {'indice':'PENETRACION'}, inplace = True)\n",
    "df_Penetracion['PENETRACION'] = df_Penetracion['PENETRACION'].str.replace(',', '.')\n",
    "df_Penetracion['PENETRACION'] = pd.to_numeric(df_Penetracion['PENETRACION'], errors='coerce')\n",
    "df_Penetracion['cod_departamento'] = df_Penetracion['cod_departamento'].astype(str)\n",
    "df_Penetracion['cod_departamento'] = df_Penetracion['cod_departamento'].str.zfill(2)\n",
    "df_Penetracion.info()\n",
    "df_Penetracion.head()"
   ]
  },
  {
   "cell_type": "code",
   "execution_count": null,
   "id": "10b63c97-e3b0-4dc7-80d0-23d9c6242382",
   "metadata": {
    "tags": []
   },
   "outputs": [],
   "source": [
    "periodos_penetracion = df_Penetracion.groupby(['ANNO','TRIMESTRE'])['ACCESOS'].count().reset_index()\n",
    "print(periodos_penetracion)"
   ]
  },
  {
   "cell_type": "code",
   "execution_count": null,
   "id": "26bfc0ac-40c2-42ec-9cf9-7d1ec340efa1",
   "metadata": {
    "tags": []
   },
   "outputs": [],
   "source": [
    "df_Penetracion_Faltante = df_Penetracion[(df_Penetracion['ANNO'] == 2023) & (df_Penetracion['TRIMESTRE'] == 3)]\n",
    "df_Penetracion_Faltante.loc[:, 'TRIMESTRE'] = 4\n",
    "df_Penetracion = pd.concat([df_Penetracion, df_Penetracion_Faltante])\n",
    "periodos_penetracion = df_Penetracion.groupby(['ANNO','TRIMESTRE'])['ACCESOS'].count().reset_index()\n",
    "print(periodos_penetracion)"
   ]
  },
  {
   "cell_type": "code",
   "execution_count": null,
   "id": "584544a9-e69a-4d5b-90da-4c306dfe0394",
   "metadata": {
    "tags": []
   },
   "outputs": [],
   "source": [
    "profile_df_Penetracion = ProfileReport(df_Penetracion, title = 'Analisis df_Penetracion')\n",
    "profile_df_Penetracion.to_notebook_iframe()"
   ]
  },
  {
   "cell_type": "code",
   "execution_count": null,
   "id": "46c9ed8f-d76e-45e3-b0b6-7758b7dc3f9e",
   "metadata": {
    "tags": []
   },
   "outputs": [],
   "source": [
    "df_Penetracion_filtrado = df_Penetracion[(df_Penetracion['ANNO'] == 2023) & (df_Penetracion['TRIMESTRE'] == 3)]\n",
    "df_Penetracion_filtrado.info()"
   ]
  },
  {
   "cell_type": "code",
   "execution_count": null,
   "id": "3272334a-f36e-4ad2-a8ef-3d87752ee92e",
   "metadata": {
    "tags": []
   },
   "outputs": [],
   "source": [
    "departamentos_penetracion = df_Penetracion_filtrado.groupby(['cod_departamento','DEPARTAMENTO'])['PENETRACION'].count().reset_index()\n",
    "departamentos_penetracion.head(40)"
   ]
  },
  {
   "cell_type": "code",
   "execution_count": null,
   "id": "624a522c-39e2-4ca9-b12a-262cbad35d93",
   "metadata": {
    "tags": []
   },
   "outputs": [],
   "source": [
    "df_Penetracion_filtrado_tabla = df_Penetracion_filtrado[['DEPARTAMENTO', 'POBLACION', 'ACCESOS', 'PENETRACION']].sort_values('PENETRACION', ascending=False)"
   ]
  },
  {
   "cell_type": "code",
   "execution_count": null,
   "id": "ca574d37-a115-4483-9764-fe3d8021c61e",
   "metadata": {
    "tags": []
   },
   "outputs": [],
   "source": [
    "go.Figure(data=[go.Table(\n",
    "    header=dict(values=list(df_Penetracion_filtrado_tabla.columns)),\n",
    "    cells=dict(values=[df_Penetracion_filtrado_tabla[col] for col in df_Penetracion_filtrado_tabla.columns]))\n",
    "])"
   ]
  },
  {
   "cell_type": "code",
   "execution_count": null,
   "id": "f8fc0664-824d-4a93-8bec-14c2edc43430",
   "metadata": {},
   "outputs": [],
   "source": [
    "dash_table.DataTable(\n",
    "    id='table',\n",
    "    columns=[{\"name\": i, \"id\": i} for i in df_Penetracion_filtrado_tabla.columns],\n",
    "    data=df_Penetracion_filtrado_tabla.to_dict('records'),\n",
    "    sort_action='native',  # Permitir ordenación nativa\n",
    "    style_table={'height': '500px', 'overflowY': 'auto'},\n",
    "    style_header={'backgroundColor': 'paleturquoise', 'fontWeight': 'bold'},\n",
    "    style_cell={'textAlign': 'left'}\n",
    ")"
   ]
  },
  {
   "cell_type": "code",
   "execution_count": null,
   "id": "2265ef56-ea89-4231-91c3-d44669d1bf0c",
   "metadata": {
    "tags": []
   },
   "outputs": [],
   "source": [
    "url_geojson = 'https://csdc.immap.org/geoserver/ows?service=WFS&version=1.0.0&request=GetFeature&typename=geonode%3AMGN_DPTO_POLITICO&outputFormat=json&srs=EPSG%3A4326&srsName=EPSG%3A4326'\n",
    "response = requests.get(url_geojson)\n",
    "mapadepartamentos = response.json()"
   ]
  },
  {
   "cell_type": "code",
   "execution_count": null,
   "id": "0286a82d-0ee3-49aa-b728-bc0b14d0735c",
   "metadata": {
    "tags": []
   },
   "outputs": [],
   "source": [
    "# Crear el mapa coroplético\n",
    "fig = px.choropleth(df_Penetracion_filtrado,\n",
    "                    geojson=mapadepartamentos,\n",
    "                    locations='cod_departamento',\n",
    "                    featureidkey='properties.DPTO_CCDGO',\n",
    "                    color='PENETRACION',\n",
    "                    color_continuous_scale = 'PuBu',\n",
    "                    hover_name='cod_departamento',\n",
    "                    hover_data={'DEPARTAMENTO': True,'POBLACION': True,'ACCESOS': True},\n",
    "                    labels={'DEPARTAMENTO':'DEPARTAMENTO', 'POBLACION':'POBLACION', 'ACCESOS':'ACCESOS', 'PENETRACION':'PENETRACION'})\n",
    "\n",
    "fig.update_geos(fitbounds=\"locations\", visible=False)\n",
    "fig.update_layout(title=\"Penetración por Departamento\")\n",
    "fig.show()"
   ]
  },
  {
   "cell_type": "code",
   "execution_count": null,
   "id": "eb8af336-a65d-4928-9bfb-27afe5e72cb0",
   "metadata": {},
   "outputs": [],
   "source": []
  },
  {
   "cell_type": "code",
   "execution_count": null,
   "id": "cf979789-9db5-4c68-b039-e0dd5a6debe0",
   "metadata": {},
   "outputs": [],
   "source": []
  },
  {
   "cell_type": "code",
   "execution_count": null,
   "id": "adf32527-e67b-4ef0-ae80-6c31cb89afee",
   "metadata": {},
   "outputs": [],
   "source": []
  }
 ],
 "metadata": {
  "kernelspec": {
   "display_name": "Python 3 (ipykernel)",
   "language": "python",
   "name": "python3"
  },
  "language_info": {
   "codemirror_mode": {
    "name": "ipython",
    "version": 3
   },
   "file_extension": ".py",
   "mimetype": "text/x-python",
   "name": "python",
   "nbconvert_exporter": "python",
   "pygments_lexer": "ipython3",
   "version": "3.11.5"
  }
 },
 "nbformat": 4,
 "nbformat_minor": 5
}
